{
 "cells": [
  {
   "cell_type": "code",
   "execution_count": 2,
   "id": "470a4405-fea3-4a94-b4ea-ce20def758a5",
   "metadata": {},
   "outputs": [],
   "source": [
    "import glob # 지정된 패턴과 일치하는 모든 경로에 이름을 찾는 라이브러리\n",
    "from tqdm import tqdm \n",
    "import csv\n",
    "import os\n",
    "import pandas as pd"
   ]
  },
  {
   "cell_type": "code",
   "execution_count": 13,
   "id": "69a751ed-24df-4dc4-9a2c-38ee4b2a2675",
   "metadata": {},
   "outputs": [
    {
     "name": "stderr",
     "output_type": "stream",
     "text": [
      "Processing 101: 100%|██████████| 12/12 [00:00<00:00, 202.67it/s]\n",
      "Processing 102: 100%|██████████| 15/15 [00:00<00:00, 204.90it/s]\n",
      "Processing 103: 100%|██████████| 12/12 [00:00<00:00, 269.25it/s]\n",
      "Processing 104: 100%|██████████| 18/18 [00:00<00:00, 223.73it/s]\n",
      "Processing 105: 100%|██████████| 16/16 [00:00<00:00, 234.68it/s]\n",
      "Processing 106: 100%|██████████| 16/16 [00:00<00:00, 231.45it/s]\n",
      "Processing 107: 100%|██████████| 14/14 [00:00<00:00, 230.62it/s]\n",
      "Processing 108: 100%|██████████| 14/14 [00:00<00:00, 237.76it/s]\n",
      "Processing 109: 100%|██████████| 13/13 [00:00<00:00, 226.22it/s]\n",
      "Processing 110: 100%|██████████| 17/17 [00:00<00:00, 211.34it/s]\n",
      "Processing 111: 100%|██████████| 16/16 [00:00<00:00, 225.68it/s]\n",
      "Processing 112: 100%|██████████| 16/16 [00:00<00:00, 216.59it/s]\n",
      "Processing 113: 100%|██████████| 15/15 [00:00<00:00, 214.74it/s]\n",
      "Processing 114: 100%|██████████| 17/17 [00:00<00:00, 194.87it/s]\n",
      "Processing 115: 100%|██████████| 18/18 [00:00<00:00, 194.42it/s]\n",
      "Processing 116: 100%|██████████| 15/15 [00:00<00:00, 195.97it/s]\n",
      "Processing 117: 100%|██████████| 16/16 [00:00<00:00, 180.90it/s]\n",
      "Processing 118: 100%|██████████| 20/20 [00:00<00:00, 207.71it/s]\n",
      "Processing 119: 100%|██████████| 15/15 [00:00<00:00, 207.57it/s]\n",
      "Processing 120: 100%|██████████| 20/20 [00:00<00:00, 201.95it/s]\n"
     ]
    }
   ],
   "source": [
    "# 2019년 label 데이터통합\n",
    "output_file = 'label.csv'\n",
    "\n",
    "# 파일을 쓰기 모드로 열어 outfile 변수에 할당\n",
    "with open(output_file, \"w\", newline='') as outfile:\n",
    "    # 파일을 쓰기 위한 writer 객체 생성\n",
    "    writer = csv.writer(outfile)\n",
    "    header_written = False  # 헤더가 이미 작성되었는지 확인하는 변수\n",
    "    for i in range(101, 121): # 2019년 데이터의 경우, 101 ~ 120번까지의 사용자가 있으므로, (101, 121)으로 지정해서 사용\n",
    "        file_pattern = '{파일경로}/{i}/**/*.csv\" \n",
    "        # 파일 경로 지정, **를 사용할 경우 하위폴더안에 *.csv 형식을 가진 파일을 가져온다.\n",
    "        \n",
    "        files = glob.glob(file_pattern) # file_pattern 파일 리스트 가져오기\n",
    "        num_files = len(files) # 가져온 files의 갯수\n",
    "        \n",
    "        # tqdm 모듈을 사용하여 for문 진행 상황 시각적으로 표현\n",
    "        for file_name in tqdm(files, desc=f'Processing {i}', total=num_files):\n",
    "            # 가져온 파일을 읽기 모드로 열어서 infile 변수에 할당\n",
    "            with open(file_name, \"r\", newline='') as infile:\n",
    "                # 파일을 읽기 위한 reader 생성\n",
    "                reader = csv.reader(infile)\n",
    "                # 파일명을 추출하여 file_index 변수에 저장\n",
    "                file_index = os.path.splitext(os.path.basename(file_name))[0]\n",
    "                for j, row in enumerate(reader):\n",
    "                    if j == 0 and header_written:  # 헤더가 이미 작성된 경우 다음 행으로 넘어감\n",
    "                        continue\n",
    "                    elif j == 0:  # 헤더인 경우 작성하고 변수 값을 변경\n",
    "                        writer.writerow([\"id\"] + row)\n",
    "                        header_written = True\n",
    "                    else:  # 데이터 행인 경우 파일 인덱스를 추가하여 작성\n",
    "                        writer.writerow([f\"{i}\"] + row)\n",
    "df = pd.read_csv(output_file)\n",
    "df[\"id\"] = df[\"id\"].astype(str).str.zfill(3)\n",
    "df.to_csv(output_file, index=False)"
   ]
  }
 ],
 "metadata": {
  "kernelspec": {
   "display_name": "Python 3 (ipykernel)",
   "language": "python",
   "name": "python3"
  },
  "language_info": {
   "codemirror_mode": {
    "name": "ipython",
    "version": 3
   },
   "file_extension": ".py",
   "mimetype": "text/x-python",
   "name": "python",
   "nbconvert_exporter": "python",
   "pygments_lexer": "ipython3",
   "version": "3.9.13"
  }
 },
 "nbformat": 4,
 "nbformat_minor": 5
}
